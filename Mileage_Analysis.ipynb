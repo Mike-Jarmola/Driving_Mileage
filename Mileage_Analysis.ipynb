{
 "cells": [
  {
   "cell_type": "markdown",
   "metadata": {},
   "source": [
    "# What Determines How Much I Drive?"
   ]
  },
  {
   "cell_type": "code",
   "execution_count": 1,
   "metadata": {},
   "outputs": [],
   "source": [
    "# pip install chowtest"
   ]
  },
  {
   "cell_type": "code",
   "execution_count": 2,
   "metadata": {},
   "outputs": [],
   "source": [
    "import numpy as np\n",
    "import pandas as pd\n",
    "from matplotlib import pyplot as plt\n",
    "%matplotlib inline\n",
    "from statsmodels.tsa.seasonal import seasonal_decompose\n",
    "from statsmodels.tsa.stattools import adfuller, kpss\n",
    "from statsmodels.graphics.tsaplots import plot_pacf, plot_acf\n",
    "from statsmodels.tsa.arima.model import ARIMA\n",
    "from chow_test import chowtest\n",
    "import statsmodels.api as sm \n",
    "import math\n",
    "import warnings\n",
    "warnings.filterwarnings('ignore')\n",
    "pd.options.display.max_rows = 999 # to display all rows\n",
    "pd.options.display.max_columns = 999 # to display all columns"
   ]
  },
  {
   "cell_type": "markdown",
   "metadata": {},
   "source": [
    "### Import Data"
   ]
  },
  {
   "cell_type": "code",
   "execution_count": 23,
   "metadata": {},
   "outputs": [],
   "source": [
    "miles_df = pd.read_csv(\"Data/Mileage.csv\", engine = \"python\")\n",
    "miles_df.set_index('Monday',inplace=True)\n",
    "miles_df.index = pd.to_datetime(miles_df.index)"
   ]
  },
  {
   "cell_type": "code",
   "execution_count": 4,
   "metadata": {},
   "outputs": [
    {
     "data": {
      "text/html": [
       "<div>\n",
       "<style scoped>\n",
       "    .dataframe tbody tr th:only-of-type {\n",
       "        vertical-align: middle;\n",
       "    }\n",
       "\n",
       "    .dataframe tbody tr th {\n",
       "        vertical-align: top;\n",
       "    }\n",
       "\n",
       "    .dataframe thead th {\n",
       "        text-align: right;\n",
       "    }\n",
       "</style>\n",
       "<table border=\"1\" class=\"dataframe\">\n",
       "  <thead>\n",
       "    <tr style=\"text-align: right;\">\n",
       "      <th></th>\n",
       "      <th>Mileage</th>\n",
       "      <th>Notes</th>\n",
       "    </tr>\n",
       "    <tr>\n",
       "      <th>Monday</th>\n",
       "      <th></th>\n",
       "      <th></th>\n",
       "    </tr>\n",
       "  </thead>\n",
       "  <tbody>\n",
       "    <tr>\n",
       "      <th>2019-08-19</th>\n",
       "      <td>293.8</td>\n",
       "      <td>NaN</td>\n",
       "    </tr>\n",
       "    <tr>\n",
       "      <th>2019-08-26</th>\n",
       "      <td>955.0</td>\n",
       "      <td>Milwaukee</td>\n",
       "    </tr>\n",
       "    <tr>\n",
       "      <th>2019-09-02</th>\n",
       "      <td>167.8</td>\n",
       "      <td>NaN</td>\n",
       "    </tr>\n",
       "    <tr>\n",
       "      <th>2019-09-09</th>\n",
       "      <td>411.4</td>\n",
       "      <td>La Crosse</td>\n",
       "    </tr>\n",
       "    <tr>\n",
       "      <th>2019-09-16</th>\n",
       "      <td>958.9</td>\n",
       "      <td>Chicago</td>\n",
       "    </tr>\n",
       "    <tr>\n",
       "      <th>2019-09-23</th>\n",
       "      <td>87.0</td>\n",
       "      <td>NaN</td>\n",
       "    </tr>\n",
       "    <tr>\n",
       "      <th>2019-09-30</th>\n",
       "      <td>130.1</td>\n",
       "      <td>NaN</td>\n",
       "    </tr>\n",
       "    <tr>\n",
       "      <th>2019-10-07</th>\n",
       "      <td>1007.5</td>\n",
       "      <td>Chicago</td>\n",
       "    </tr>\n",
       "    <tr>\n",
       "      <th>2019-10-14</th>\n",
       "      <td>88.3</td>\n",
       "      <td>NaN</td>\n",
       "    </tr>\n",
       "    <tr>\n",
       "      <th>2019-10-21</th>\n",
       "      <td>118.7</td>\n",
       "      <td>NaN</td>\n",
       "    </tr>\n",
       "    <tr>\n",
       "      <th>2019-10-28</th>\n",
       "      <td>48.6</td>\n",
       "      <td>NaN</td>\n",
       "    </tr>\n",
       "    <tr>\n",
       "      <th>2019-11-04</th>\n",
       "      <td>72.5</td>\n",
       "      <td>NaN</td>\n",
       "    </tr>\n",
       "    <tr>\n",
       "      <th>2019-11-11</th>\n",
       "      <td>136.5</td>\n",
       "      <td>NaN</td>\n",
       "    </tr>\n",
       "    <tr>\n",
       "      <th>2019-11-18</th>\n",
       "      <td>162.7</td>\n",
       "      <td>NaN</td>\n",
       "    </tr>\n",
       "    <tr>\n",
       "      <th>2019-11-25</th>\n",
       "      <td>486.8</td>\n",
       "      <td>NaN</td>\n",
       "    </tr>\n",
       "    <tr>\n",
       "      <th>2019-12-02</th>\n",
       "      <td>526.2</td>\n",
       "      <td>NaN</td>\n",
       "    </tr>\n",
       "    <tr>\n",
       "      <th>2019-12-09</th>\n",
       "      <td>125.5</td>\n",
       "      <td>NaN</td>\n",
       "    </tr>\n",
       "    <tr>\n",
       "      <th>2019-12-16</th>\n",
       "      <td>13.3</td>\n",
       "      <td>NaN</td>\n",
       "    </tr>\n",
       "    <tr>\n",
       "      <th>2019-12-23</th>\n",
       "      <td>89.6</td>\n",
       "      <td>NaN</td>\n",
       "    </tr>\n",
       "    <tr>\n",
       "      <th>2019-12-30</th>\n",
       "      <td>57.2</td>\n",
       "      <td>NaN</td>\n",
       "    </tr>\n",
       "    <tr>\n",
       "      <th>2020-01-06</th>\n",
       "      <td>0.0</td>\n",
       "      <td>NaN</td>\n",
       "    </tr>\n",
       "    <tr>\n",
       "      <th>2020-01-13</th>\n",
       "      <td>134.6</td>\n",
       "      <td>NaN</td>\n",
       "    </tr>\n",
       "    <tr>\n",
       "      <th>2020-01-20</th>\n",
       "      <td>55.8</td>\n",
       "      <td>NaN</td>\n",
       "    </tr>\n",
       "    <tr>\n",
       "      <th>2020-01-27</th>\n",
       "      <td>137.9</td>\n",
       "      <td>NaN</td>\n",
       "    </tr>\n",
       "    <tr>\n",
       "      <th>2020-02-03</th>\n",
       "      <td>157.2</td>\n",
       "      <td>NaN</td>\n",
       "    </tr>\n",
       "    <tr>\n",
       "      <th>2020-02-10</th>\n",
       "      <td>95.9</td>\n",
       "      <td>NaN</td>\n",
       "    </tr>\n",
       "    <tr>\n",
       "      <th>2020-02-17</th>\n",
       "      <td>75.1</td>\n",
       "      <td>NaN</td>\n",
       "    </tr>\n",
       "    <tr>\n",
       "      <th>2020-02-24</th>\n",
       "      <td>75.1</td>\n",
       "      <td>NaN</td>\n",
       "    </tr>\n",
       "    <tr>\n",
       "      <th>2020-03-02</th>\n",
       "      <td>124.6</td>\n",
       "      <td>NaN</td>\n",
       "    </tr>\n",
       "    <tr>\n",
       "      <th>2020-03-09</th>\n",
       "      <td>NaN</td>\n",
       "      <td>Car battery died</td>\n",
       "    </tr>\n",
       "    <tr>\n",
       "      <th>2020-03-16</th>\n",
       "      <td>843.3</td>\n",
       "      <td>Milwaukee; Coronavirus begins, 3/11 NBA postpo...</td>\n",
       "    </tr>\n",
       "    <tr>\n",
       "      <th>2020-03-23</th>\n",
       "      <td>4.3</td>\n",
       "      <td>NaN</td>\n",
       "    </tr>\n",
       "    <tr>\n",
       "      <th>2020-03-30</th>\n",
       "      <td>46.5</td>\n",
       "      <td>NaN</td>\n",
       "    </tr>\n",
       "    <tr>\n",
       "      <th>2020-04-06</th>\n",
       "      <td>29.7</td>\n",
       "      <td>NaN</td>\n",
       "    </tr>\n",
       "    <tr>\n",
       "      <th>2020-04-13</th>\n",
       "      <td>2.0</td>\n",
       "      <td>NaN</td>\n",
       "    </tr>\n",
       "    <tr>\n",
       "      <th>2020-04-20</th>\n",
       "      <td>76.0</td>\n",
       "      <td>NaN</td>\n",
       "    </tr>\n",
       "    <tr>\n",
       "      <th>2020-04-27</th>\n",
       "      <td>2.8</td>\n",
       "      <td>NaN</td>\n",
       "    </tr>\n",
       "    <tr>\n",
       "      <th>2020-05-04</th>\n",
       "      <td>8.0</td>\n",
       "      <td>NaN</td>\n",
       "    </tr>\n",
       "    <tr>\n",
       "      <th>2020-05-11</th>\n",
       "      <td>0.0</td>\n",
       "      <td>NaN</td>\n",
       "    </tr>\n",
       "    <tr>\n",
       "      <th>2020-05-18</th>\n",
       "      <td>2.8</td>\n",
       "      <td>NaN</td>\n",
       "    </tr>\n",
       "    <tr>\n",
       "      <th>2020-05-25</th>\n",
       "      <td>135.4</td>\n",
       "      <td>NaN</td>\n",
       "    </tr>\n",
       "    <tr>\n",
       "      <th>2020-06-01</th>\n",
       "      <td>0.0</td>\n",
       "      <td>NaN</td>\n",
       "    </tr>\n",
       "    <tr>\n",
       "      <th>2020-06-08</th>\n",
       "      <td>76.2</td>\n",
       "      <td>NaN</td>\n",
       "    </tr>\n",
       "    <tr>\n",
       "      <th>2020-06-15</th>\n",
       "      <td>288.2</td>\n",
       "      <td>Redwood Falls and Mankato</td>\n",
       "    </tr>\n",
       "    <tr>\n",
       "      <th>2020-06-22</th>\n",
       "      <td>879.6</td>\n",
       "      <td>Chicago</td>\n",
       "    </tr>\n",
       "    <tr>\n",
       "      <th>2020-06-29</th>\n",
       "      <td>2.9</td>\n",
       "      <td>NaN</td>\n",
       "    </tr>\n",
       "    <tr>\n",
       "      <th>2020-07-06</th>\n",
       "      <td>150.4</td>\n",
       "      <td>NaN</td>\n",
       "    </tr>\n",
       "    <tr>\n",
       "      <th>2020-07-13</th>\n",
       "      <td>347.8</td>\n",
       "      <td>Winona</td>\n",
       "    </tr>\n",
       "    <tr>\n",
       "      <th>2020-07-20</th>\n",
       "      <td>86.9</td>\n",
       "      <td>NaN</td>\n",
       "    </tr>\n",
       "    <tr>\n",
       "      <th>2020-07-27</th>\n",
       "      <td>0.0</td>\n",
       "      <td>NaN</td>\n",
       "    </tr>\n",
       "    <tr>\n",
       "      <th>2020-08-03</th>\n",
       "      <td>0.0</td>\n",
       "      <td>NaN</td>\n",
       "    </tr>\n",
       "    <tr>\n",
       "      <th>2020-08-10</th>\n",
       "      <td>400.0</td>\n",
       "      <td>Chicago</td>\n",
       "    </tr>\n",
       "    <tr>\n",
       "      <th>2020-08-17</th>\n",
       "      <td>371.9</td>\n",
       "      <td>Chicago</td>\n",
       "    </tr>\n",
       "    <tr>\n",
       "      <th>2020-08-24</th>\n",
       "      <td>120.9</td>\n",
       "      <td>NaN</td>\n",
       "    </tr>\n",
       "    <tr>\n",
       "      <th>2020-08-31</th>\n",
       "      <td>13.8</td>\n",
       "      <td>NaN</td>\n",
       "    </tr>\n",
       "    <tr>\n",
       "      <th>2020-09-07</th>\n",
       "      <td>50.5</td>\n",
       "      <td>NaN</td>\n",
       "    </tr>\n",
       "    <tr>\n",
       "      <th>2020-09-14</th>\n",
       "      <td>127.6</td>\n",
       "      <td>NaN</td>\n",
       "    </tr>\n",
       "    <tr>\n",
       "      <th>2020-09-21</th>\n",
       "      <td>104.7</td>\n",
       "      <td>NaN</td>\n",
       "    </tr>\n",
       "    <tr>\n",
       "      <th>2020-09-28</th>\n",
       "      <td>38.6</td>\n",
       "      <td>NaN</td>\n",
       "    </tr>\n",
       "    <tr>\n",
       "      <th>2020-10-05</th>\n",
       "      <td>96.5</td>\n",
       "      <td>NaN</td>\n",
       "    </tr>\n",
       "    <tr>\n",
       "      <th>2020-10-12</th>\n",
       "      <td>136.0</td>\n",
       "      <td>NaN</td>\n",
       "    </tr>\n",
       "    <tr>\n",
       "      <th>2020-10-19</th>\n",
       "      <td>178.7</td>\n",
       "      <td>Mankato</td>\n",
       "    </tr>\n",
       "    <tr>\n",
       "      <th>2020-10-26</th>\n",
       "      <td>49.5</td>\n",
       "      <td>NaN</td>\n",
       "    </tr>\n",
       "    <tr>\n",
       "      <th>2020-11-02</th>\n",
       "      <td>57.5</td>\n",
       "      <td>NaN</td>\n",
       "    </tr>\n",
       "    <tr>\n",
       "      <th>2020-11-09</th>\n",
       "      <td>0.0</td>\n",
       "      <td>NaN</td>\n",
       "    </tr>\n",
       "    <tr>\n",
       "      <th>2020-11-16</th>\n",
       "      <td>45.9</td>\n",
       "      <td>NaN</td>\n",
       "    </tr>\n",
       "    <tr>\n",
       "      <th>2020-11-23</th>\n",
       "      <td>46.9</td>\n",
       "      <td>NaN</td>\n",
       "    </tr>\n",
       "    <tr>\n",
       "      <th>2020-11-30</th>\n",
       "      <td>5.6</td>\n",
       "      <td>NaN</td>\n",
       "    </tr>\n",
       "    <tr>\n",
       "      <th>2020-12-07</th>\n",
       "      <td>45.2</td>\n",
       "      <td>NaN</td>\n",
       "    </tr>\n",
       "    <tr>\n",
       "      <th>2020-12-14</th>\n",
       "      <td>44.7</td>\n",
       "      <td>NaN</td>\n",
       "    </tr>\n",
       "  </tbody>\n",
       "</table>\n",
       "</div>"
      ],
      "text/plain": [
       "            Mileage                                              Notes\n",
       "Monday                                                                \n",
       "2019-08-19    293.8                                                NaN\n",
       "2019-08-26    955.0                                          Milwaukee\n",
       "2019-09-02    167.8                                                NaN\n",
       "2019-09-09    411.4                                          La Crosse\n",
       "2019-09-16    958.9                                            Chicago\n",
       "2019-09-23     87.0                                                NaN\n",
       "2019-09-30    130.1                                                NaN\n",
       "2019-10-07   1007.5                                            Chicago\n",
       "2019-10-14     88.3                                                NaN\n",
       "2019-10-21    118.7                                                NaN\n",
       "2019-10-28     48.6                                                NaN\n",
       "2019-11-04     72.5                                                NaN\n",
       "2019-11-11    136.5                                                NaN\n",
       "2019-11-18    162.7                                                NaN\n",
       "2019-11-25    486.8                                                NaN\n",
       "2019-12-02    526.2                                                NaN\n",
       "2019-12-09    125.5                                                NaN\n",
       "2019-12-16     13.3                                                NaN\n",
       "2019-12-23     89.6                                                NaN\n",
       "2019-12-30     57.2                                                NaN\n",
       "2020-01-06      0.0                                                NaN\n",
       "2020-01-13    134.6                                                NaN\n",
       "2020-01-20     55.8                                                NaN\n",
       "2020-01-27    137.9                                                NaN\n",
       "2020-02-03    157.2                                                NaN\n",
       "2020-02-10     95.9                                                NaN\n",
       "2020-02-17     75.1                                                NaN\n",
       "2020-02-24     75.1                                                NaN\n",
       "2020-03-02    124.6                                                NaN\n",
       "2020-03-09      NaN                                   Car battery died\n",
       "2020-03-16    843.3  Milwaukee; Coronavirus begins, 3/11 NBA postpo...\n",
       "2020-03-23      4.3                                                NaN\n",
       "2020-03-30     46.5                                                NaN\n",
       "2020-04-06     29.7                                                NaN\n",
       "2020-04-13      2.0                                                NaN\n",
       "2020-04-20     76.0                                                NaN\n",
       "2020-04-27      2.8                                                NaN\n",
       "2020-05-04      8.0                                                NaN\n",
       "2020-05-11      0.0                                                NaN\n",
       "2020-05-18      2.8                                                NaN\n",
       "2020-05-25    135.4                                                NaN\n",
       "2020-06-01      0.0                                                NaN\n",
       "2020-06-08     76.2                                                NaN\n",
       "2020-06-15    288.2                          Redwood Falls and Mankato\n",
       "2020-06-22    879.6                                            Chicago\n",
       "2020-06-29      2.9                                                NaN\n",
       "2020-07-06    150.4                                                NaN\n",
       "2020-07-13    347.8                                             Winona\n",
       "2020-07-20     86.9                                                NaN\n",
       "2020-07-27      0.0                                                NaN\n",
       "2020-08-03      0.0                                                NaN\n",
       "2020-08-10    400.0                                            Chicago\n",
       "2020-08-17    371.9                                            Chicago\n",
       "2020-08-24    120.9                                                NaN\n",
       "2020-08-31     13.8                                                NaN\n",
       "2020-09-07     50.5                                                NaN\n",
       "2020-09-14    127.6                                                NaN\n",
       "2020-09-21    104.7                                                NaN\n",
       "2020-09-28     38.6                                                NaN\n",
       "2020-10-05     96.5                                                NaN\n",
       "2020-10-12    136.0                                                NaN\n",
       "2020-10-19    178.7                                            Mankato\n",
       "2020-10-26     49.5                                                NaN\n",
       "2020-11-02     57.5                                                NaN\n",
       "2020-11-09      0.0                                                NaN\n",
       "2020-11-16     45.9                                                NaN\n",
       "2020-11-23     46.9                                                NaN\n",
       "2020-11-30      5.6                                                NaN\n",
       "2020-12-07     45.2                                                NaN\n",
       "2020-12-14     44.7                                                NaN"
      ]
     },
     "execution_count": 4,
     "metadata": {},
     "output_type": "execute_result"
    }
   ],
   "source": [
    "miles_df"
   ]
  },
  {
   "cell_type": "code",
   "execution_count": 5,
   "metadata": {},
   "outputs": [
    {
     "name": "stdout",
     "output_type": "stream",
     "text": [
      "<class 'pandas.core.frame.DataFrame'>\n",
      "DatetimeIndex: 70 entries, 2019-08-19 to 2020-12-14\n",
      "Data columns (total 2 columns):\n",
      " #   Column   Non-Null Count  Dtype  \n",
      "---  ------   --------------  -----  \n",
      " 0   Mileage  69 non-null     float64\n",
      " 1   Notes    12 non-null     object \n",
      "dtypes: float64(1), object(1)\n",
      "memory usage: 1.6+ KB\n"
     ]
    }
   ],
   "source": [
    "miles_df.info()"
   ]
  },
  {
   "cell_type": "markdown",
   "metadata": {},
   "source": [
    "### Idenity week(s) where mileage was not recorded"
   ]
  },
  {
   "cell_type": "code",
   "execution_count": 6,
   "metadata": {},
   "outputs": [
    {
     "data": {
      "text/html": [
       "<div>\n",
       "<style scoped>\n",
       "    .dataframe tbody tr th:only-of-type {\n",
       "        vertical-align: middle;\n",
       "    }\n",
       "\n",
       "    .dataframe tbody tr th {\n",
       "        vertical-align: top;\n",
       "    }\n",
       "\n",
       "    .dataframe thead th {\n",
       "        text-align: right;\n",
       "    }\n",
       "</style>\n",
       "<table border=\"1\" class=\"dataframe\">\n",
       "  <thead>\n",
       "    <tr style=\"text-align: right;\">\n",
       "      <th></th>\n",
       "      <th>Mileage</th>\n",
       "      <th>Notes</th>\n",
       "    </tr>\n",
       "    <tr>\n",
       "      <th>Monday</th>\n",
       "      <th></th>\n",
       "      <th></th>\n",
       "    </tr>\n",
       "  </thead>\n",
       "  <tbody>\n",
       "    <tr>\n",
       "      <th>2020-03-09</th>\n",
       "      <td>NaN</td>\n",
       "      <td>Car battery died</td>\n",
       "    </tr>\n",
       "  </tbody>\n",
       "</table>\n",
       "</div>"
      ],
      "text/plain": [
       "            Mileage             Notes\n",
       "Monday                               \n",
       "2020-03-09      NaN  Car battery died"
      ]
     },
     "execution_count": 6,
     "metadata": {},
     "output_type": "execute_result"
    }
   ],
   "source": [
    "miles_df[miles_df[\"Mileage\"].isnull()]"
   ]
  },
  {
   "cell_type": "markdown",
   "metadata": {},
   "source": [
    "### How should the missing value be imputed?"
   ]
  },
  {
   "cell_type": "code",
   "execution_count": 7,
   "metadata": {},
   "outputs": [
    {
     "data": {
      "text/html": [
       "<div>\n",
       "<style scoped>\n",
       "    .dataframe tbody tr th:only-of-type {\n",
       "        vertical-align: middle;\n",
       "    }\n",
       "\n",
       "    .dataframe tbody tr th {\n",
       "        vertical-align: top;\n",
       "    }\n",
       "\n",
       "    .dataframe thead th {\n",
       "        text-align: right;\n",
       "    }\n",
       "</style>\n",
       "<table border=\"1\" class=\"dataframe\">\n",
       "  <thead>\n",
       "    <tr style=\"text-align: right;\">\n",
       "      <th></th>\n",
       "      <th>Mileage</th>\n",
       "    </tr>\n",
       "  </thead>\n",
       "  <tbody>\n",
       "    <tr>\n",
       "      <th>count</th>\n",
       "      <td>69.000000</td>\n",
       "    </tr>\n",
       "    <tr>\n",
       "      <th>mean</th>\n",
       "      <td>169.723188</td>\n",
       "    </tr>\n",
       "    <tr>\n",
       "      <th>std</th>\n",
       "      <td>244.174248</td>\n",
       "    </tr>\n",
       "    <tr>\n",
       "      <th>min</th>\n",
       "      <td>0.000000</td>\n",
       "    </tr>\n",
       "    <tr>\n",
       "      <th>25%</th>\n",
       "      <td>44.700000</td>\n",
       "    </tr>\n",
       "    <tr>\n",
       "      <th>50%</th>\n",
       "      <td>87.000000</td>\n",
       "    </tr>\n",
       "    <tr>\n",
       "      <th>75%</th>\n",
       "      <td>150.400000</td>\n",
       "    </tr>\n",
       "    <tr>\n",
       "      <th>max</th>\n",
       "      <td>1007.500000</td>\n",
       "    </tr>\n",
       "  </tbody>\n",
       "</table>\n",
       "</div>"
      ],
      "text/plain": [
       "           Mileage\n",
       "count    69.000000\n",
       "mean    169.723188\n",
       "std     244.174248\n",
       "min       0.000000\n",
       "25%      44.700000\n",
       "50%      87.000000\n",
       "75%     150.400000\n",
       "max    1007.500000"
      ]
     },
     "execution_count": 7,
     "metadata": {},
     "output_type": "execute_result"
    }
   ],
   "source": [
    "miles_df.describe()"
   ]
  },
  {
   "cell_type": "markdown",
   "metadata": {},
   "source": [
    "Should we use the global mean mean, global median, or perhaps something more specific?\n",
    "\n",
    "Let investigate a more specific value to impute the missing value."
   ]
  },
  {
   "cell_type": "code",
   "execution_count": 8,
   "metadata": {},
   "outputs": [
    {
     "data": {
      "text/plain": [
       "array([nan, 'Milwaukee', 'La Crosse', 'Chicago', 'Car battery died',\n",
       "       'Milwaukee; Coronavirus begins, 3/11 NBA postponed season',\n",
       "       'Redwood Falls and Mankato', 'Winona', 'Mankato'], dtype=object)"
      ]
     },
     "execution_count": 8,
     "metadata": {},
     "output_type": "execute_result"
    }
   ],
   "source": [
    "miles_df.loc[:,\"Notes\"].unique()"
   ]
  },
  {
   "cell_type": "code",
   "execution_count": 24,
   "metadata": {},
   "outputs": [],
   "source": [
    "# identify when travel occurred; notes only exist for travels outside metro area\n",
    "miles_df[\"travel_ind\"] = np.where(miles_df['Notes'].notnull(), 1, 0)\n",
    "\n",
    "# car battery died and no travel occurred\n",
    "miles_df[\"travel_ind\"] = np.where(miles_df['Notes'].str.lower().str.contains(\"car battery\", na = False), \n",
    "                                   0, miles_df[\"travel_ind\"])"
   ]
  },
  {
   "cell_type": "markdown",
   "metadata": {},
   "source": [
    "Looks like I traveled to Chicago 5 times during this time period. "
   ]
  },
  {
   "cell_type": "code",
   "execution_count": 25,
   "metadata": {},
   "outputs": [
    {
     "data": {
      "text/html": [
       "<div>\n",
       "<style scoped>\n",
       "    .dataframe tbody tr th:only-of-type {\n",
       "        vertical-align: middle;\n",
       "    }\n",
       "\n",
       "    .dataframe tbody tr th {\n",
       "        vertical-align: top;\n",
       "    }\n",
       "\n",
       "    .dataframe thead th {\n",
       "        text-align: right;\n",
       "    }\n",
       "</style>\n",
       "<table border=\"1\" class=\"dataframe\">\n",
       "  <thead>\n",
       "    <tr style=\"text-align: right;\">\n",
       "      <th></th>\n",
       "      <th>travel_ind</th>\n",
       "    </tr>\n",
       "    <tr>\n",
       "      <th>Notes</th>\n",
       "      <th></th>\n",
       "    </tr>\n",
       "  </thead>\n",
       "  <tbody>\n",
       "    <tr>\n",
       "      <th>Chicago</th>\n",
       "      <td>5</td>\n",
       "    </tr>\n",
       "    <tr>\n",
       "      <th>La Crosse</th>\n",
       "      <td>1</td>\n",
       "    </tr>\n",
       "    <tr>\n",
       "      <th>Mankato</th>\n",
       "      <td>1</td>\n",
       "    </tr>\n",
       "    <tr>\n",
       "      <th>Milwaukee</th>\n",
       "      <td>1</td>\n",
       "    </tr>\n",
       "    <tr>\n",
       "      <th>Milwaukee; Coronavirus begins, 3/11 NBA postponed season</th>\n",
       "      <td>1</td>\n",
       "    </tr>\n",
       "    <tr>\n",
       "      <th>Redwood Falls and Mankato</th>\n",
       "      <td>1</td>\n",
       "    </tr>\n",
       "    <tr>\n",
       "      <th>Winona</th>\n",
       "      <td>1</td>\n",
       "    </tr>\n",
       "    <tr>\n",
       "      <th>Car battery died</th>\n",
       "      <td>0</td>\n",
       "    </tr>\n",
       "  </tbody>\n",
       "</table>\n",
       "</div>"
      ],
      "text/plain": [
       "                                                    travel_ind\n",
       "Notes                                                         \n",
       "Chicago                                                      5\n",
       "La Crosse                                                    1\n",
       "Mankato                                                      1\n",
       "Milwaukee                                                    1\n",
       "Milwaukee; Coronavirus begins, 3/11 NBA postpon...           1\n",
       "Redwood Falls and Mankato                                    1\n",
       "Winona                                                       1\n",
       "Car battery died                                             0"
      ]
     },
     "execution_count": 25,
     "metadata": {},
     "output_type": "execute_result"
    }
   ],
   "source": [
    "miles_df.groupby([\"Notes\"]).agg({\"travel_ind\":\"sum\"}).sort_values(\"travel_ind\", ascending = False)"
   ]
  },
  {
   "cell_type": "markdown",
   "metadata": {},
   "source": [
    "Group by `travel_ind` and get average mileage in order to see a more specific value that may be more suitable for the period containing the missing value. "
   ]
  },
  {
   "cell_type": "code",
   "execution_count": 26,
   "metadata": {},
   "outputs": [
    {
     "data": {
      "text/html": [
       "<div>\n",
       "<style scoped>\n",
       "    .dataframe tbody tr th:only-of-type {\n",
       "        vertical-align: middle;\n",
       "    }\n",
       "\n",
       "    .dataframe tbody tr th {\n",
       "        vertical-align: top;\n",
       "    }\n",
       "\n",
       "    .dataframe thead tr th {\n",
       "        text-align: left;\n",
       "    }\n",
       "\n",
       "    .dataframe thead tr:last-of-type th {\n",
       "        text-align: right;\n",
       "    }\n",
       "</style>\n",
       "<table border=\"1\" class=\"dataframe\">\n",
       "  <thead>\n",
       "    <tr>\n",
       "      <th></th>\n",
       "      <th colspan=\"3\" halign=\"left\">Mileage</th>\n",
       "    </tr>\n",
       "    <tr>\n",
       "      <th></th>\n",
       "      <th>count</th>\n",
       "      <th>mean</th>\n",
       "      <th>median</th>\n",
       "    </tr>\n",
       "    <tr>\n",
       "      <th>travel_ind</th>\n",
       "      <th></th>\n",
       "      <th></th>\n",
       "      <th></th>\n",
       "    </tr>\n",
       "  </thead>\n",
       "  <tbody>\n",
       "    <tr>\n",
       "      <th>0</th>\n",
       "      <td>58</td>\n",
       "      <td>87.389655</td>\n",
       "      <td>73.8</td>\n",
       "    </tr>\n",
       "    <tr>\n",
       "      <th>1</th>\n",
       "      <td>11</td>\n",
       "      <td>603.845455</td>\n",
       "      <td>411.4</td>\n",
       "    </tr>\n",
       "  </tbody>\n",
       "</table>\n",
       "</div>"
      ],
      "text/plain": [
       "           Mileage                   \n",
       "             count        mean median\n",
       "travel_ind                           \n",
       "0               58   87.389655   73.8\n",
       "1               11  603.845455  411.4"
      ]
     },
     "execution_count": 26,
     "metadata": {},
     "output_type": "execute_result"
    }
   ],
   "source": [
    "grouped_df = miles_df.groupby([\"travel_ind\"]).agg({\"Mileage\":[\"count\",\"mean\",\"median\"]})\n",
    "grouped_df"
   ]
  },
  {
   "cell_type": "markdown",
   "metadata": {},
   "source": [
    "Imputing values is more of an art than a science. Because this is a time series, we want to try to retain as many observations as possible. Because the median of the series is 87 miles, and the mean of the group of weeks where I didn't travel is about 87 miles, we can feel comfortable imputing a value of approximately 87 for the missing value. \n",
    "\n",
    "It won't always be this conclusive when imputing values and reducing bias in the observations, but because the overall median is similar to the mean during non-traveling weeks, the solution is appropriate.  "
   ]
  },
  {
   "cell_type": "code",
   "execution_count": 27,
   "metadata": {},
   "outputs": [
    {
     "data": {
      "text/plain": [
       "87.4"
      ]
     },
     "execution_count": 27,
     "metadata": {},
     "output_type": "execute_result"
    }
   ],
   "source": [
    "# exclude first level of multi-indexed columns resulting from the groupby\n",
    "grouped_df.columns = grouped_df.columns.droplevel(0)\n",
    "\n",
    "# get the number to impute the null value in Mileage\n",
    "non_travel_mean_mileage = grouped_df.loc[0, \"mean\"].round(1)\n",
    "non_travel_mean_mileage"
   ]
  },
  {
   "cell_type": "markdown",
   "metadata": {},
   "source": [
    "### Impute missing mileage value"
   ]
  },
  {
   "cell_type": "code",
   "execution_count": 30,
   "metadata": {},
   "outputs": [
    {
     "data": {
      "text/html": [
       "<div>\n",
       "<style scoped>\n",
       "    .dataframe tbody tr th:only-of-type {\n",
       "        vertical-align: middle;\n",
       "    }\n",
       "\n",
       "    .dataframe tbody tr th {\n",
       "        vertical-align: top;\n",
       "    }\n",
       "\n",
       "    .dataframe thead th {\n",
       "        text-align: right;\n",
       "    }\n",
       "</style>\n",
       "<table border=\"1\" class=\"dataframe\">\n",
       "  <thead>\n",
       "    <tr style=\"text-align: right;\">\n",
       "      <th></th>\n",
       "      <th>Mileage</th>\n",
       "      <th>Notes</th>\n",
       "      <th>travel_ind</th>\n",
       "    </tr>\n",
       "  </thead>\n",
       "  <tbody>\n",
       "    <tr>\n",
       "      <th>2020-03-09</th>\n",
       "      <td>87.4</td>\n",
       "      <td>Car battery died</td>\n",
       "      <td>0</td>\n",
       "    </tr>\n",
       "  </tbody>\n",
       "</table>\n",
       "</div>"
      ],
      "text/plain": [
       "            Mileage             Notes  travel_ind\n",
       "2020-03-09     87.4  Car battery died           0"
      ]
     },
     "execution_count": 30,
     "metadata": {},
     "output_type": "execute_result"
    }
   ],
   "source": [
    "miles_df.loc[pd.to_datetime(['2020-03-09'])]"
   ]
  },
  {
   "cell_type": "code",
   "execution_count": 31,
   "metadata": {},
   "outputs": [
    {
     "data": {
      "text/html": [
       "<div>\n",
       "<style scoped>\n",
       "    .dataframe tbody tr th:only-of-type {\n",
       "        vertical-align: middle;\n",
       "    }\n",
       "\n",
       "    .dataframe tbody tr th {\n",
       "        vertical-align: top;\n",
       "    }\n",
       "\n",
       "    .dataframe thead th {\n",
       "        text-align: right;\n",
       "    }\n",
       "</style>\n",
       "<table border=\"1\" class=\"dataframe\">\n",
       "  <thead>\n",
       "    <tr style=\"text-align: right;\">\n",
       "      <th></th>\n",
       "      <th>Mileage</th>\n",
       "      <th>Notes</th>\n",
       "      <th>travel_ind</th>\n",
       "    </tr>\n",
       "  </thead>\n",
       "  <tbody>\n",
       "    <tr>\n",
       "      <th>2020-03-09</th>\n",
       "      <td>87.4</td>\n",
       "      <td>Car battery died</td>\n",
       "      <td>0</td>\n",
       "    </tr>\n",
       "  </tbody>\n",
       "</table>\n",
       "</div>"
      ],
      "text/plain": [
       "            Mileage             Notes  travel_ind\n",
       "2020-03-09     87.4  Car battery died           0"
      ]
     },
     "execution_count": 31,
     "metadata": {},
     "output_type": "execute_result"
    }
   ],
   "source": [
    "miles_df[\"Mileage\"] = np.where(miles_df[\"Mileage\"].isnull(), non_travel_mean_mileage, miles_df[\"Mileage\"]).round(1)\n",
    "\n",
    "miles_df.loc[pd.to_datetime(['2020-03-09'])]"
   ]
  },
  {
   "cell_type": "markdown",
   "metadata": {},
   "source": [
    "Mileage field is ready to be used."
   ]
  },
  {
   "cell_type": "markdown",
   "metadata": {},
   "source": [
    "### Histogram of Mileage"
   ]
  },
  {
   "cell_type": "code",
   "execution_count": 34,
   "metadata": {},
   "outputs": [
    {
     "data": {
      "image/png": "[encoded data removed]",
      "text/plain": [
       "<Figure size 432x288 with 1 Axes>"
      ]
     },
     "metadata": {
      "needs_background": "light"
     },
     "output_type": "display_data"
    }
   ],
   "source": [
    "plt.hist(miles_df[\"Mileage\"], density = False, bins = 30)\n",
    "plt.ylabel(\"Count of Weeks\")\n",
    "plt.xlabel(\"Mileage\")\n",
    "plt.xticks(rotation = 45)\n",
    "plt.show()"
   ]
  },
  {
   "cell_type": "markdown",
   "metadata": {},
   "source": [
    "### Trend over Time"
   ]
  },
  {
   "cell_type": "code",
   "execution_count": 35,
   "metadata": {},
   "outputs": [
    {
     "data": {
      "image/png": "[encoded data removed]",
      "text/plain": [
       "<Figure size 432x288 with 1 Axes>"
      ]
     },
     "metadata": {
      "needs_background": "light"
     },
     "output_type": "display_data"
    }
   ],
   "source": [
    "miles_df[\"Mileage\"].plot()\n",
    "plt.ylabel(\"Miles\")\n",
    "plt.xlabel(\"Week\")\n",
    "plt.xticks(rotation = 45)\n",
    "plt.show()"
   ]
  },
  {
   "cell_type": "markdown",
   "metadata": {},
   "source": [
    "If a trend exists, then the series is not stationary, and will require differencing, at least a difference order of 1.  \n",
    "The series appears to be stationary. We will verify stationarity using a statistical test below. "
   ]
  },
  {
   "cell_type": "markdown",
   "metadata": {},
   "source": [
    "We will take the natural log of the `Mileage` series because the histogram shows a right-skew in the data. \n",
    "\n",
    "We also add 1 to the level of the Mileage series because log(0) cannot be taken (log(0) = inf). All values are scaled by 1 so this shouldn't affect the analysis too much. This analysis is for practicing with time series data, and scaling may not be appropriate in othet applications."
   ]
  },
  {
   "cell_type": "code",
   "execution_count": 39,
   "metadata": {},
   "outputs": [],
   "source": [
    "# can't take log of 0, so offset Mileage by 2 miles\n",
    "miles_df[\"Mileage_log\"] = np.log(miles_df[\"Mileage\"] + 1)\n",
    "# miles_df[\"Mileage\"] = miles_df[\"Mileage\"]+1"
   ]
  },
  {
   "cell_type": "code",
   "execution_count": 40,
   "metadata": {},
   "outputs": [
    {
     "data": {
      "image/png": "[encoded data removed]",
      "text/plain": [
       "<Figure size 432x288 with 1 Axes>"
      ]
     },
     "metadata": {
      "needs_background": "light"
     },
     "output_type": "display_data"
    }
   ],
   "source": [
    "miles_df[\"Mileage_log\"].plot()\n",
    "plt.ylabel(\"Miles\")\n",
    "plt.xlabel(\"Week\")\n",
    "plt.xticks(rotation = 45)\n",
    "plt.show()"
   ]
  },
  {
   "cell_type": "markdown",
   "metadata": {},
   "source": [
    "### Testing Stationarity"
   ]
  },
  {
   "cell_type": "markdown",
   "metadata": {},
   "source": [
    "The mean of the series should not be a function of time; its mean should not drift over time. The variance of the series should also not be a function of time; its variance should not expand/contract over time (homoskedasticity = variance is not a function of time).\n",
    "\n",
    "To help identify if the time series needs to be differenced or not, we will check the rolling mean, Augemented Dickey-Fuller (ADF) test, and KPSS test. "
   ]
  },
  {
   "cell_type": "markdown",
   "metadata": {},
   "source": [
    "Looking at the rolling mean and standard deviation, the series appears to be stationary. There seems to be a decrease in driving in the spring and early summar of 2020, coinciding with the start Covid-19 pandemic, as defined for this analysis. However, the rolling mean and standard deviation seem to rebound over time. This supports the hypothesis that the series is stationary. "
   ]
  },
  {
   "cell_type": "code",
   "execution_count": 47,
   "metadata": {},
   "outputs": [
    {
     "data": {
      "image/png": "[encoded data removed]",
      "text/plain": [
       "<Figure size 432x288 with 1 Axes>"
      ]
     },
     "metadata": {
      "needs_background": "light"
     },
     "output_type": "display_data"
    }
   ],
   "source": [
    "# check rolling mean (the eye test)  \n",
    "rolling_mean = miles_df[[\"Mileage_log\"]].rolling(window = 12).mean()\n",
    "rolling_std = miles_df[[\"Mileage_log\"]].rolling(window = 12).std()\n",
    "plt.plot(miles_df[[\"Mileage_log\"]], color = 'blue', label = 'Original')\n",
    "plt.plot(rolling_mean, color = 'red', label = 'Rolling Mean')\n",
    "plt.plot(rolling_std, color = 'black', label = 'Rolling Std')\n",
    "plt.legend(loc = 'best')\n",
    "plt.title('Rolling Mean & Rolling Standard Deviation')\n",
    "plt.xticks(rotation = 45)\n",
    "plt.show()"
   ]
  },
  {
   "cell_type": "markdown",
   "metadata": {},
   "source": [
    "ADF\n",
    "- Null hypothesis: Unit root exists (Series is non-stationary)\n",
    "- Alternative hypothesis: Series is stationary"
   ]
  },
  {
   "cell_type": "markdown",
   "metadata": {},
   "source": [
    "The ADF-statistic is high and the associated p-value is low, leading us to reject the null hypothesis at the 5% level of significance and conclude the series is stationary."
   ]
  },
  {
   "cell_type": "code",
   "execution_count": 50,
   "metadata": {},
   "outputs": [
    {
     "name": "stdout",
     "output_type": "stream",
     "text": [
      "1. ADF :  \t\t\t\t\t\t -6.578755034953513\n",
      "2. P-Value :  \t\t\t\t\t\t 7.60761237317162e-09\n",
      "3. Num Of Lags :  \t\t\t\t\t 0\n",
      "4. Num Of Observations Used For ADF Regression: \t 69\n",
      "5. Critical Values :\n",
      "\t 1% :  -3.528889992207215\n",
      "\t 5% :  -2.9044395987933362\n",
      "\t 10% :  -2.589655654274312\n"
     ]
    }
   ],
   "source": [
    "# ADF Test\n",
    "adf_result_log = adfuller(miles_df['Mileage_log'], autolag = 'AIC')  \n",
    "print(\"1. ADF : \", \"\\t\\t\\t\\t\\t\\t\", adf_result_log[0])  \n",
    "print(\"2. P-Value : \", \"\\t\\t\\t\\t\\t\\t\", adf_result_log[1])\n",
    "print(\"3. Num Of Lags : \", \"\\t\\t\\t\\t\\t\", adf_result_log[2])\n",
    "print(\"4. Num Of Observations Used For ADF Regression:\", \"\\t\", adf_result_log[3])\n",
    "print(\"5. Critical Values :\")\n",
    "for key, val in adf_result_log[4].items():\n",
    "    print(\"\\t\",key, \": \", val)"
   ]
  },
  {
   "cell_type": "markdown",
   "metadata": {},
   "source": [
    "KPSS\n",
    "- Null hypothesis: Series is stationary\n",
    "- Alternative hypothesis: Unit root exists (Series is non-stationary)"
   ]
  },
  {
   "cell_type": "markdown",
   "metadata": {},
   "source": [
    "The KPSS-statistic is high and the associated p-value is low, leading us to fail to reject the null hypothesis at the 5% level of significance and conclude the series is stationary.\n",
    "\n",
    "We may be a little concerned that the KPSS test is statistically significant at the 10% level, however, we feel comfortable conluding the time series is stationary because of the tests and analyses above indicating a stationary series. "
   ]
  },
  {
   "cell_type": "code",
   "execution_count": 55,
   "metadata": {},
   "outputs": [
    {
     "name": "stdout",
     "output_type": "stream",
     "text": [
      "\n",
      "KPSS Statistic: \t 0.388044\n",
      "p-value: \t\t 0.082308\n",
      "Critial Values:\n",
      "   10%, 0.347\n",
      "Critial Values:\n",
      "   5%, 0.463\n",
      "Critial Values:\n",
      "   2.5%, 0.574\n",
      "Critial Values:\n",
      "   1%, 0.739\n"
     ]
    }
   ],
   "source": [
    "# KPSS Test\n",
    "kpss_result_log = kpss(miles_df[\"Mileage_log\"].values, regression='c', lags = \"legacy\")\n",
    "print('\\nKPSS Statistic: \\t %f' % kpss_result_log[0])\n",
    "print('p-value: \\t\\t %f' % kpss_result_log[1])\n",
    "for key, value in kpss_result_log[3].items():\n",
    "    print('Critial Values:')\n",
    "    print(f'   {key}, {value}')"
   ]
  },
  {
   "cell_type": "markdown",
   "metadata": {},
   "source": [
    "### Analyzing Autocorrelation and Moving Average"
   ]
  },
  {
   "cell_type": "markdown",
   "metadata": {},
   "source": [
    "Let's look at the Partial Autocorrelation and Autocorrelation charts. The Partial Autocorrelation chart helps identify if any lag terms need to be included in the time series model.The Autocorrelation chart helps identify if any moving average terms need to be included in the time series model."
   ]
  },
  {
   "cell_type": "markdown",
   "metadata": {},
   "source": [
    "It seems that lag1 and lag14 may be statistically important to include in the model. 14 weeks back seems irrelevant to determining how much one drives. It may indicate that I drive long distances quarterly in terms of a year (visit family members, vacation, etc.). However, with the only other lag time period that may be statistically important being lag1, lag1 should capture this lag14 phenomenon. We will include and analyze lag1 in the time series model.  \n",
    "\n",
    "No moving average terms seem to be statistically important to include in the model. "
   ]
  },
  {
   "cell_type": "code",
   "execution_count": 56,
   "metadata": {},
   "outputs": [
    {
     "data": {
      "image/png": "[encoded data removed]",
      "text/plain": [
       "<Figure size 1080x504 with 2 Axes>"
      ]
     },
     "metadata": {
      "needs_background": "light"
     },
     "output_type": "display_data"
    }
   ],
   "source": [
    "fig = plt.figure(figsize=(15,7))\n",
    "ax1 = fig.add_subplot(211)\n",
    "fig = plot_pacf(miles_df['Mileage_log'], ax=ax1) # AR\n",
    "ax2 = fig.add_subplot(212)\n",
    "fig = plot_acf(miles_df['Mileage_log'], ax=ax2) # MA"
   ]
  },
  {
   "cell_type": "markdown",
   "metadata": {},
   "source": [
    "### Split into Train and Test Datasets"
   ]
  },
  {
   "cell_type": "code",
   "execution_count": 65,
   "metadata": {},
   "outputs": [
    {
     "name": "stdout",
     "output_type": "stream",
     "text": [
      "Original dataset shape (70, 4)\n",
      "Train shape: (60, 4)\n",
      "Test shape: (10, 4)\n"
     ]
    }
   ],
   "source": [
    "# test period will be last 10 observations  \n",
    "train_df = miles_df.iloc[:-10]  \n",
    "test_df = miles_df.iloc[-10:]\n",
    "\n",
    "print(\"Original dataset shape\", miles_df.shape)\n",
    "print(\"Train shape:\", train_df.shape) \n",
    "print(\"Test shape:\", test_df.shape)"
   ]
  },
  {
   "cell_type": "code",
   "execution_count": 66,
   "metadata": {},
   "outputs": [
    {
     "data": {
      "text/html": [
       "<div>\n",
       "<style scoped>\n",
       "    .dataframe tbody tr th:only-of-type {\n",
       "        vertical-align: middle;\n",
       "    }\n",
       "\n",
       "    .dataframe tbody tr th {\n",
       "        vertical-align: top;\n",
       "    }\n",
       "\n",
       "    .dataframe thead th {\n",
       "        text-align: right;\n",
       "    }\n",
       "</style>\n",
       "<table border=\"1\" class=\"dataframe\">\n",
       "  <thead>\n",
       "    <tr style=\"text-align: right;\">\n",
       "      <th></th>\n",
       "      <th>Mileage</th>\n",
       "      <th>Notes</th>\n",
       "      <th>travel_ind</th>\n",
       "      <th>Mileage_log</th>\n",
       "    </tr>\n",
       "    <tr>\n",
       "      <th>Monday</th>\n",
       "      <th></th>\n",
       "      <th></th>\n",
       "      <th></th>\n",
       "      <th></th>\n",
       "    </tr>\n",
       "  </thead>\n",
       "  <tbody>\n",
       "    <tr>\n",
       "      <th>2020-09-28</th>\n",
       "      <td>38.6</td>\n",
       "      <td>NaN</td>\n",
       "      <td>0</td>\n",
       "      <td>3.678829</td>\n",
       "    </tr>\n",
       "    <tr>\n",
       "      <th>2020-10-05</th>\n",
       "      <td>96.5</td>\n",
       "      <td>NaN</td>\n",
       "      <td>0</td>\n",
       "      <td>4.579852</td>\n",
       "    </tr>\n",
       "  </tbody>\n",
       "</table>\n",
       "</div>"
      ],
      "text/plain": [
       "            Mileage Notes  travel_ind  Mileage_log\n",
       "Monday                                            \n",
       "2020-09-28     38.6   NaN           0     3.678829\n",
       "2020-10-05     96.5   NaN           0     4.579852"
      ]
     },
     "execution_count": 66,
     "metadata": {},
     "output_type": "execute_result"
    }
   ],
   "source": [
    "train_df.tail(2)"
   ]
  },
  {
   "cell_type": "code",
   "execution_count": 67,
   "metadata": {},
   "outputs": [
    {
     "data": {
      "text/html": [
       "<div>\n",
       "<style scoped>\n",
       "    .dataframe tbody tr th:only-of-type {\n",
       "        vertical-align: middle;\n",
       "    }\n",
       "\n",
       "    .dataframe tbody tr th {\n",
       "        vertical-align: top;\n",
       "    }\n",
       "\n",
       "    .dataframe thead th {\n",
       "        text-align: right;\n",
       "    }\n",
       "</style>\n",
       "<table border=\"1\" class=\"dataframe\">\n",
       "  <thead>\n",
       "    <tr style=\"text-align: right;\">\n",
       "      <th></th>\n",
       "      <th>Mileage</th>\n",
       "      <th>Notes</th>\n",
       "      <th>travel_ind</th>\n",
       "      <th>Mileage_log</th>\n",
       "    </tr>\n",
       "    <tr>\n",
       "      <th>Monday</th>\n",
       "      <th></th>\n",
       "      <th></th>\n",
       "      <th></th>\n",
       "      <th></th>\n",
       "    </tr>\n",
       "  </thead>\n",
       "  <tbody>\n",
       "    <tr>\n",
       "      <th>2020-10-12</th>\n",
       "      <td>136.0</td>\n",
       "      <td>NaN</td>\n",
       "      <td>0</td>\n",
       "      <td>4.919981</td>\n",
       "    </tr>\n",
       "    <tr>\n",
       "      <th>2020-10-19</th>\n",
       "      <td>178.7</td>\n",
       "      <td>Mankato</td>\n",
       "      <td>1</td>\n",
       "      <td>5.191289</td>\n",
       "    </tr>\n",
       "  </tbody>\n",
       "</table>\n",
       "</div>"
      ],
      "text/plain": [
       "            Mileage    Notes  travel_ind  Mileage_log\n",
       "Monday                                               \n",
       "2020-10-12    136.0      NaN           0     4.919981\n",
       "2020-10-19    178.7  Mankato           1     5.191289"
      ]
     },
     "execution_count": 67,
     "metadata": {},
     "output_type": "execute_result"
    }
   ],
   "source": [
    "test_df.head(2)"
   ]
  },
  {
   "cell_type": "markdown",
   "metadata": {},
   "source": [
    "### ARIMA"
   ]
  },
  {
   "cell_type": "markdown",
   "metadata": {},
   "source": [
    "We now are ready to run our first ARIMA model. ARIMA models consider autoregressive (AR - lags), integrated (I - differenced), and moving average (MA - moving average) components.\n",
    "\n",
    "From the above analyses, we found that the series is stationary, may require one lag, and doesn't need a moving average term. We will evaluate a ARIMA model with the order of (AR = 1, I = 0, MA = 0)."
   ]
  },
  {
   "cell_type": "markdown",
   "metadata": {},
   "source": [
    "The model performs well enough. The lag1 term is statistically significant at the 5% level, indicating that last week's mileage may influence this week's mileage. The residuals seem to be reverting to zero in the plot of the residuals over time. The residuals seem to be almost distributed over zero. The forecast isn't following the volatility of the observed results in the out-of-time sample, however, the predictions seem to be in the realm of reason. Our ARIMA model may not predict the exact values in a certain week, but it does seem to do a sound job of predicting mileage over time. Our model seems to be comparable to using the average mileage and assuming the mileage driven in a week will be near that average amount. In all, it's a decent model, but not the best."
   ]
  },
  {
   "cell_type": "code",
   "execution_count": 83,
   "metadata": {},
   "outputs": [
    {
     "name": "stdout",
     "output_type": "stream",
     "text": [
      "                               SARIMAX Results                                \n",
      "==============================================================================\n",
      "Dep. Variable:            Mileage_log   No. Observations:                   60\n",
      "Model:                 ARIMA(1, 0, 0)   Log Likelihood                -120.611\n",
      "Date:                Sun, 31 Jan 2021   AIC                            247.221\n",
      "Time:                        13:42:22   BIC                            253.504\n",
      "Sample:                    08-19-2019   HQIC                           249.679\n",
      "                         - 10-05-2020                                         \n",
      "Covariance Type:                  opg                                         \n",
      "==============================================================================\n",
      "                 coef    std err          z      P>|z|      [0.025      0.975]\n",
      "------------------------------------------------------------------------------\n",
      "const          4.1747      0.387     10.796      0.000       3.417       4.933\n",
      "ar.L1          0.2282      0.116      1.959      0.050      -0.000       0.457\n",
      "sigma2         3.2595      0.747      4.362      0.000       1.795       4.724\n",
      "===================================================================================\n",
      "Ljung-Box (L1) (Q):                   0.00   Jarque-Bera (JB):                 7.95\n",
      "Prob(Q):                              0.97   Prob(JB):                         0.02\n",
      "Heteroskedasticity (H):               2.59   Skew:                            -0.89\n",
      "Prob(H) (two-sided):                  0.04   Kurtosis:                         3.07\n",
      "===================================================================================\n",
      "\n",
      "Warnings:\n",
      "[1] Covariance matrix calculated using the outer product of gradients (complex-step).\n",
      "\n",
      "\n",
      "\n",
      "\n"
     ]
    },
    {
     "data": {
      "image/png": "[encoded data removed]",
      "text/plain": [
       "<Figure size 432x288 with 1 Axes>"
      ]
     },
     "metadata": {
      "needs_background": "light"
     },
     "output_type": "display_data"
    },
    {
     "name": "stdout",
     "output_type": "stream",
     "text": [
      "\n",
      "\n",
      "\n",
      "\n"
     ]
    },
    {
     "data": {
      "image/png": "[encoded data removed]",
      "text/plain": [
       "<Figure size 432x288 with 1 Axes>"
      ]
     },
     "metadata": {
      "needs_background": "light"
     },
     "output_type": "display_data"
    },
    {
     "name": "stdout",
     "output_type": "stream",
     "text": [
      "\n",
      "\n",
      "\n",
      "\n",
      "Summary Statistics of Residuals\n",
      "               0\n",
      "count  60.000000\n",
      "mean   -0.005748\n",
      "std     1.821201\n",
      "min    -4.343785\n",
      "25%    -0.459186\n",
      "50%     0.294173\n",
      "75%     1.345805\n",
      "max     2.771880\n",
      "\n",
      "\n",
      "\n",
      "\n"
     ]
    },
    {
     "data": {
      "image/png": "[encoded data removed]",
      "text/plain": [
       "<Figure size 1200x500 with 1 Axes>"
      ]
     },
     "metadata": {
      "needs_background": "light"
     },
     "output_type": "display_data"
    }
   ],
   "source": [
    "# fit model  \n",
    "model = ARIMA(train_df[\"Mileage_log\"], order=(1,0,0))\n",
    "model_fit = model.fit()\n",
    "\n",
    "# summary of fit model  \n",
    "print(model_fit.summary())\n",
    "\n",
    "# line plot of residuals  \n",
    "print(\"\\n\\n\\n\")\n",
    "residuals = pd.DataFrame(model_fit.resid)\n",
    "residuals.plot()  \n",
    "plt.title(\"Residuals Over Time\")\n",
    "plt.show()\n",
    "\n",
    "# density plot of residuals  \n",
    "print(\"\\n\\n\\n\")\n",
    "residuals.plot(kind=\"kde\")  \n",
    "plt.title(\"Density Plot of Residuals\")\n",
    "plt.show()  \n",
    "\n",
    "# summary stats of residuals \n",
    "print(\"\\n\\n\\n\")\n",
    "print(\"Summary Statistics of Residuals\")\n",
    "print(residuals.describe())  \n",
    "\n",
    "# forecast    \n",
    "fc = model_fit.forecast(10, alpha=0.05)  # 95% conf`  \n",
    "\n",
    "# make as pandas series  \n",
    "fc_series = pd.Series(fc, index=test_df.index)\n",
    "\n",
    "# plot forecast  \n",
    "print(\"\\n\\n\\n\")\n",
    "plt.figure(figsize=(12,5), dpi=100)  \n",
    "plt.plot(train_df[\"Mileage_log\"], label='training')\n",
    "plt.plot(test_df[\"Mileage_log\"], label='actual')\n",
    "plt.plot(fc_series, label='forecast')\n",
    "plt.title('Forecast vs Actuals')\n",
    "plt.legend(loc='upper left', fontsize=8)\n",
    "plt.show()"
   ]
  },
  {
   "cell_type": "markdown",
   "metadata": {},
   "source": [
    "### Forecasting Metrics"
   ]
  },
  {
   "cell_type": "markdown",
   "metadata": {},
   "source": [
    "Let's check out our forecasting performance. "
   ]
  },
  {
   "cell_type": "code",
   "execution_count": 84,
   "metadata": {},
   "outputs": [],
   "source": [
    "def performance_metrics(predicted, actual):\n",
    "    mape = np.mean(np.abs(predicted - actual)/np.abs(actual))*100  # MAPE \n",
    "    me = np.mean(predicted - actual)             # ME\n",
    "    mae = np.mean(np.abs(predicted - actual))    # MAE\n",
    "    mpe = np.mean((predicted - actual)/actual)*100   # MPE\n",
    "    rmse = np.mean((predicted - actual)**2)**.5  # RMSE\n",
    "    corr = np.corrcoef(predicted, actual)[0,1]   # corr\n",
    "#     mins = np.amin(np.hstack([predicted[:,None], actual[:,None]]), axis=1) \n",
    "#     maxs = np.amax(np.hstack([predicted[:,None], actual[:,None]]), axis=1)\n",
    "#     minmax = 1 - np.mean(mins/maxs)             # minmax\n",
    "#     acf1 = acf(fc-test)[1]                      # ACF1\n",
    "    return({'mape':mape, \n",
    "            'me':me,\n",
    "            'mae': mae,\n",
    "            'mpe': mpe, \n",
    "            'rmse':rmse, \n",
    "            'corr':corr})  \n",
    "\n",
    "# forecast_accuracy(fc, test.values) "
   ]
  },
  {
   "cell_type": "code",
   "execution_count": 85,
   "metadata": {},
   "outputs": [
    {
     "data": {
      "text/plain": [
       "{'mape': inf,\n",
       " 'me': 0.6505470803381009,\n",
       " 'mae': 0.9802027325134304,\n",
       " 'mpe': inf,\n",
       " 'rmse': 1.568437697854139,\n",
       " 'corr': 0.41516066931389256}"
      ]
     },
     "execution_count": 85,
     "metadata": {},
     "output_type": "execute_result"
    }
   ],
   "source": [
    "performance_metrics(fc, test_df[\"Mileage_log\"])"
   ]
  },
  {
   "cell_type": "markdown",
   "metadata": {},
   "source": [
    "### Create Destination Indicators"
   ]
  },
  {
   "cell_type": "code",
   "execution_count": 37,
   "metadata": {},
   "outputs": [],
   "source": [
    "# miles_df[\"Milwaukee\"] = np.where(miles_df['Notes'].str.lower().str.contains(\"milwaukee\", na = False), 1, 0)\n",
    "# miles_df[\"Chicago\"] = np.where(miles_df['Notes'].str.lower().str.contains(\"chicago\", na = False), 1, 0)"
   ]
  },
  {
   "cell_type": "markdown",
   "metadata": {},
   "source": [
    "### Identifying when Coronovirus started"
   ]
  },
  {
   "cell_type": "code",
   "execution_count": 38,
   "metadata": {
    "scrolled": true
   },
   "outputs": [
    {
     "data": {
      "text/html": [
       "<div>\n",
       "<style scoped>\n",
       "    .dataframe tbody tr th:only-of-type {\n",
       "        vertical-align: middle;\n",
       "    }\n",
       "\n",
       "    .dataframe tbody tr th {\n",
       "        vertical-align: top;\n",
       "    }\n",
       "\n",
       "    .dataframe thead th {\n",
       "        text-align: right;\n",
       "    }\n",
       "</style>\n",
       "<table border=\"1\" class=\"dataframe\">\n",
       "  <thead>\n",
       "    <tr style=\"text-align: right;\">\n",
       "      <th></th>\n",
       "      <th>Mileage</th>\n",
       "      <th>Notes</th>\n",
       "      <th>travel_ind</th>\n",
       "      <th>Mileage_log</th>\n",
       "      <th>Milwaukee</th>\n",
       "      <th>Chicago</th>\n",
       "    </tr>\n",
       "    <tr>\n",
       "      <th>Monday</th>\n",
       "      <th></th>\n",
       "      <th></th>\n",
       "      <th></th>\n",
       "      <th></th>\n",
       "      <th></th>\n",
       "      <th></th>\n",
       "    </tr>\n",
       "  </thead>\n",
       "  <tbody>\n",
       "    <tr>\n",
       "      <th>2020-03-16</th>\n",
       "      <td>844.3</td>\n",
       "      <td>Milwaukee; Coronavirus begins, 3/11 NBA postpo...</td>\n",
       "      <td>1</td>\n",
       "      <td>6.739692</td>\n",
       "      <td>1</td>\n",
       "      <td>0</td>\n",
       "    </tr>\n",
       "  </tbody>\n",
       "</table>\n",
       "</div>"
      ],
      "text/plain": [
       "            Mileage                                              Notes  \\\n",
       "Monday                                                                   \n",
       "2020-03-16    844.3  Milwaukee; Coronavirus begins, 3/11 NBA postpo...   \n",
       "\n",
       "            travel_ind  Mileage_log  Milwaukee  Chicago  \n",
       "Monday                                                   \n",
       "2020-03-16           1     6.739692          1        0  "
      ]
     },
     "execution_count": 38,
     "metadata": {},
     "output_type": "execute_result"
    }
   ],
   "source": [
    "miles_df.loc[miles_df['Notes'].str.lower().str.contains(\"coronavirus\", na = False)]"
   ]
  },
  {
   "cell_type": "markdown",
   "metadata": {},
   "source": [
    "### Chow Breakpoint Test"
   ]
  },
  {
   "cell_type": "markdown",
   "metadata": {},
   "source": [
    "test whether one regression or two or more regressions best characterise the data. \n",
    "\n",
    "test is capable of detecting \"structural breaks\" within time-series"
   ]
  },
  {
   "cell_type": "code",
   "execution_count": 39,
   "metadata": {},
   "outputs": [
    {
     "name": "stdout",
     "output_type": "stream",
     "text": [
      "****************************************************************************************************\n",
      "Reject the null hypothesis of equality of regression coefficients in the 2 periods.\n",
      "****************************************************************************************************\n",
      "Chow Statistic: 12.752858942889294 p value: 0.0\n",
      "****************************************************************************************************\n"
     ]
    },
    {
     "data": {
      "text/plain": [
       "(12.752858942889294, 1.1116191744875437e-08)"
      ]
     },
     "execution_count": 39,
     "metadata": {},
     "output_type": "execute_result"
    }
   ],
   "source": [
    "chowtest(y = miles_df[[\"Mileage\"]],\n",
    "         X = miles_df[[\"travel_ind\"]],\n",
    "         last_index_in_model_1 = \"2020-03-09\",\n",
    "         first_index_in_model_2 = \"2020-03-16\",\n",
    "         significance_level = 0.05)"
   ]
  },
  {
   "cell_type": "code",
   "execution_count": 40,
   "metadata": {},
   "outputs": [
    {
     "name": "stdout",
     "output_type": "stream",
     "text": [
      "****************************************************************************************************\n",
      "Reject the null hypothesis of equality of regression coefficients in the 2 periods.\n",
      "****************************************************************************************************\n",
      "Chow Statistic: 8.786592900213678 p value: 0.0\n",
      "****************************************************************************************************\n"
     ]
    },
    {
     "data": {
      "text/plain": [
       "(8.786592900213678, 2.411714624450667e-06)"
      ]
     },
     "execution_count": 40,
     "metadata": {},
     "output_type": "execute_result"
    }
   ],
   "source": [
    "chowtest(y = miles_df[[\"Mileage\"]],\n",
    "         X = miles_df[[\"travel_ind\",\"Milwaukee\",\"Chicago\"]],\n",
    "         last_index_in_model_1 = \"2020-03-09\",\n",
    "         first_index_in_model_2 = \"2020-03-16\",\n",
    "         significance_level = 0.05)"
   ]
  },
  {
   "cell_type": "markdown",
   "metadata": {},
   "source": [
    "### Create Covid Indicator in Training Dataset"
   ]
  },
  {
   "cell_type": "code",
   "execution_count": 79,
   "metadata": {
    "scrolled": true
   },
   "outputs": [
    {
     "name": "stdout",
     "output_type": "stream",
     "text": [
      "          Mileage                    \n",
      "            count        mean  median\n",
      "covid_ind                            \n",
      "0              30  230.366667  126.05\n",
      "1              30  144.576667   64.25 \n",
      "\n",
      "\n",
      "           Mileage             \n",
      "            count  mean median\n",
      "covid_ind                     \n",
      "1              10  62.0   47.4\n"
     ]
    }
   ],
   "source": [
    "# create indicator for Coronavirus period vs non-Coronavirus period\n",
    "train_df[\"covid_ind\"] = np.where(train_df.index >= \"2020-03-16\", 1, 0)\n",
    "print(train_df.groupby([\"covid_ind\"]).agg({\"Mileage\":[\"count\",\"mean\",\"median\"]}), \"\\n\")\n",
    "\n",
    "test_df[\"covid_ind\"] = np.where(test_df.index >= \"2020-03-16\", 1, 0)\n",
    "print(\"\\n\", test_df.groupby([\"covid_ind\"]).agg({\"Mileage\":[\"count\",\"mean\",\"median\"]}))"
   ]
  },
  {
   "cell_type": "code",
   "execution_count": 64,
   "metadata": {},
   "outputs": [
    {
     "data": {
      "text/html": [
       "<div>\n",
       "<style scoped>\n",
       "    .dataframe tbody tr th:only-of-type {\n",
       "        vertical-align: middle;\n",
       "    }\n",
       "\n",
       "    .dataframe tbody tr th {\n",
       "        vertical-align: top;\n",
       "    }\n",
       "\n",
       "    .dataframe thead th {\n",
       "        text-align: right;\n",
       "    }\n",
       "</style>\n",
       "<table border=\"1\" class=\"dataframe\">\n",
       "  <thead>\n",
       "    <tr style=\"text-align: right;\">\n",
       "      <th></th>\n",
       "      <th>Mileage</th>\n",
       "      <th>Notes</th>\n",
       "      <th>travel_ind</th>\n",
       "      <th>Mileage_log</th>\n",
       "      <th>covid_ind</th>\n",
       "    </tr>\n",
       "    <tr>\n",
       "      <th>Monday</th>\n",
       "      <th></th>\n",
       "      <th></th>\n",
       "      <th></th>\n",
       "      <th></th>\n",
       "      <th></th>\n",
       "    </tr>\n",
       "  </thead>\n",
       "  <tbody>\n",
       "    <tr>\n",
       "      <th>2019-08-19</th>\n",
       "      <td>294.8</td>\n",
       "      <td>NaN</td>\n",
       "      <td>0</td>\n",
       "      <td>5.689684</td>\n",
       "      <td>0</td>\n",
       "    </tr>\n",
       "    <tr>\n",
       "      <th>2019-08-26</th>\n",
       "      <td>956.0</td>\n",
       "      <td>Milwaukee</td>\n",
       "      <td>1</td>\n",
       "      <td>6.863803</td>\n",
       "      <td>0</td>\n",
       "    </tr>\n",
       "    <tr>\n",
       "      <th>2019-09-02</th>\n",
       "      <td>168.8</td>\n",
       "      <td>NaN</td>\n",
       "      <td>0</td>\n",
       "      <td>5.134621</td>\n",
       "      <td>0</td>\n",
       "    </tr>\n",
       "    <tr>\n",
       "      <th>2019-09-09</th>\n",
       "      <td>412.4</td>\n",
       "      <td>La Crosse</td>\n",
       "      <td>1</td>\n",
       "      <td>6.024416</td>\n",
       "      <td>0</td>\n",
       "    </tr>\n",
       "    <tr>\n",
       "      <th>2019-09-16</th>\n",
       "      <td>959.9</td>\n",
       "      <td>Chicago</td>\n",
       "      <td>1</td>\n",
       "      <td>6.867870</td>\n",
       "      <td>0</td>\n",
       "    </tr>\n",
       "  </tbody>\n",
       "</table>\n",
       "</div>"
      ],
      "text/plain": [
       "            Mileage      Notes  travel_ind  Mileage_log  covid_ind\n",
       "Monday                                                            \n",
       "2019-08-19    294.8        NaN           0     5.689684          0\n",
       "2019-08-26    956.0  Milwaukee           1     6.863803          0\n",
       "2019-09-02    168.8        NaN           0     5.134621          0\n",
       "2019-09-09    412.4  La Crosse           1     6.024416          0\n",
       "2019-09-16    959.9    Chicago           1     6.867870          0"
      ]
     },
     "execution_count": 64,
     "metadata": {},
     "output_type": "execute_result"
    }
   ],
   "source": [
    "train_df.head()"
   ]
  },
  {
   "cell_type": "code",
   "execution_count": 65,
   "metadata": {},
   "outputs": [
    {
     "data": {
      "text/html": [
       "<div>\n",
       "<style scoped>\n",
       "    .dataframe tbody tr th:only-of-type {\n",
       "        vertical-align: middle;\n",
       "    }\n",
       "\n",
       "    .dataframe tbody tr th {\n",
       "        vertical-align: top;\n",
       "    }\n",
       "\n",
       "    .dataframe thead th {\n",
       "        text-align: right;\n",
       "    }\n",
       "</style>\n",
       "<table border=\"1\" class=\"dataframe\">\n",
       "  <thead>\n",
       "    <tr style=\"text-align: right;\">\n",
       "      <th></th>\n",
       "      <th>Mileage</th>\n",
       "      <th>Notes</th>\n",
       "      <th>travel_ind</th>\n",
       "      <th>Mileage_log</th>\n",
       "      <th>covid_ind</th>\n",
       "    </tr>\n",
       "    <tr>\n",
       "      <th>Monday</th>\n",
       "      <th></th>\n",
       "      <th></th>\n",
       "      <th></th>\n",
       "      <th></th>\n",
       "      <th></th>\n",
       "    </tr>\n",
       "  </thead>\n",
       "  <tbody>\n",
       "    <tr>\n",
       "      <th>2020-09-07</th>\n",
       "      <td>51.5</td>\n",
       "      <td>NaN</td>\n",
       "      <td>0</td>\n",
       "      <td>3.960813</td>\n",
       "      <td>1</td>\n",
       "    </tr>\n",
       "    <tr>\n",
       "      <th>2020-09-14</th>\n",
       "      <td>128.6</td>\n",
       "      <td>NaN</td>\n",
       "      <td>0</td>\n",
       "      <td>4.864453</td>\n",
       "      <td>1</td>\n",
       "    </tr>\n",
       "    <tr>\n",
       "      <th>2020-09-21</th>\n",
       "      <td>105.7</td>\n",
       "      <td>NaN</td>\n",
       "      <td>0</td>\n",
       "      <td>4.670021</td>\n",
       "      <td>1</td>\n",
       "    </tr>\n",
       "    <tr>\n",
       "      <th>2020-09-28</th>\n",
       "      <td>39.6</td>\n",
       "      <td>NaN</td>\n",
       "      <td>0</td>\n",
       "      <td>3.703768</td>\n",
       "      <td>1</td>\n",
       "    </tr>\n",
       "    <tr>\n",
       "      <th>2020-10-05</th>\n",
       "      <td>97.5</td>\n",
       "      <td>NaN</td>\n",
       "      <td>0</td>\n",
       "      <td>4.590057</td>\n",
       "      <td>1</td>\n",
       "    </tr>\n",
       "  </tbody>\n",
       "</table>\n",
       "</div>"
      ],
      "text/plain": [
       "            Mileage Notes  travel_ind  Mileage_log  covid_ind\n",
       "Monday                                                       \n",
       "2020-09-07     51.5   NaN           0     3.960813          1\n",
       "2020-09-14    128.6   NaN           0     4.864453          1\n",
       "2020-09-21    105.7   NaN           0     4.670021          1\n",
       "2020-09-28     39.6   NaN           0     3.703768          1\n",
       "2020-10-05     97.5   NaN           0     4.590057          1"
      ]
     },
     "execution_count": 65,
     "metadata": {},
     "output_type": "execute_result"
    }
   ],
   "source": [
    "train_df.tail()"
   ]
  },
  {
   "cell_type": "code",
   "execution_count": 92,
   "metadata": {},
   "outputs": [
    {
     "data": {
      "text/html": [
       "<div>\n",
       "<style scoped>\n",
       "    .dataframe tbody tr th:only-of-type {\n",
       "        vertical-align: middle;\n",
       "    }\n",
       "\n",
       "    .dataframe tbody tr th {\n",
       "        vertical-align: top;\n",
       "    }\n",
       "\n",
       "    .dataframe thead th {\n",
       "        text-align: right;\n",
       "    }\n",
       "</style>\n",
       "<table border=\"1\" class=\"dataframe\">\n",
       "  <thead>\n",
       "    <tr style=\"text-align: right;\">\n",
       "      <th></th>\n",
       "      <th>Mileage</th>\n",
       "      <th>Notes</th>\n",
       "      <th>travel_ind</th>\n",
       "      <th>Mileage_log</th>\n",
       "      <th>covid_ind</th>\n",
       "    </tr>\n",
       "    <tr>\n",
       "      <th>Monday</th>\n",
       "      <th></th>\n",
       "      <th></th>\n",
       "      <th></th>\n",
       "      <th></th>\n",
       "      <th></th>\n",
       "    </tr>\n",
       "  </thead>\n",
       "  <tbody>\n",
       "    <tr>\n",
       "      <th>2020-10-12</th>\n",
       "      <td>137.0</td>\n",
       "      <td>NaN</td>\n",
       "      <td>0</td>\n",
       "      <td>4.927254</td>\n",
       "      <td>1</td>\n",
       "    </tr>\n",
       "    <tr>\n",
       "      <th>2020-10-19</th>\n",
       "      <td>179.7</td>\n",
       "      <td>Mankato</td>\n",
       "      <td>1</td>\n",
       "      <td>5.196838</td>\n",
       "      <td>1</td>\n",
       "    </tr>\n",
       "    <tr>\n",
       "      <th>2020-10-26</th>\n",
       "      <td>50.5</td>\n",
       "      <td>NaN</td>\n",
       "      <td>0</td>\n",
       "      <td>3.941582</td>\n",
       "      <td>1</td>\n",
       "    </tr>\n",
       "    <tr>\n",
       "      <th>2020-11-02</th>\n",
       "      <td>58.5</td>\n",
       "      <td>NaN</td>\n",
       "      <td>0</td>\n",
       "      <td>4.085976</td>\n",
       "      <td>1</td>\n",
       "    </tr>\n",
       "    <tr>\n",
       "      <th>2020-11-09</th>\n",
       "      <td>1.0</td>\n",
       "      <td>NaN</td>\n",
       "      <td>0</td>\n",
       "      <td>0.693147</td>\n",
       "      <td>1</td>\n",
       "    </tr>\n",
       "    <tr>\n",
       "      <th>2020-11-16</th>\n",
       "      <td>46.9</td>\n",
       "      <td>NaN</td>\n",
       "      <td>0</td>\n",
       "      <td>3.869116</td>\n",
       "      <td>1</td>\n",
       "    </tr>\n",
       "    <tr>\n",
       "      <th>2020-11-23</th>\n",
       "      <td>47.9</td>\n",
       "      <td>NaN</td>\n",
       "      <td>0</td>\n",
       "      <td>3.889777</td>\n",
       "      <td>1</td>\n",
       "    </tr>\n",
       "    <tr>\n",
       "      <th>2020-11-30</th>\n",
       "      <td>6.6</td>\n",
       "      <td>NaN</td>\n",
       "      <td>0</td>\n",
       "      <td>2.028148</td>\n",
       "      <td>1</td>\n",
       "    </tr>\n",
       "    <tr>\n",
       "      <th>2020-12-07</th>\n",
       "      <td>46.2</td>\n",
       "      <td>NaN</td>\n",
       "      <td>0</td>\n",
       "      <td>3.854394</td>\n",
       "      <td>1</td>\n",
       "    </tr>\n",
       "    <tr>\n",
       "      <th>2020-12-14</th>\n",
       "      <td>45.7</td>\n",
       "      <td>NaN</td>\n",
       "      <td>0</td>\n",
       "      <td>3.843744</td>\n",
       "      <td>1</td>\n",
       "    </tr>\n",
       "  </tbody>\n",
       "</table>\n",
       "</div>"
      ],
      "text/plain": [
       "            Mileage    Notes  travel_ind  Mileage_log  covid_ind\n",
       "Monday                                                          \n",
       "2020-10-12    137.0      NaN           0     4.927254          1\n",
       "2020-10-19    179.7  Mankato           1     5.196838          1\n",
       "2020-10-26     50.5      NaN           0     3.941582          1\n",
       "2020-11-02     58.5      NaN           0     4.085976          1\n",
       "2020-11-09      1.0      NaN           0     0.693147          1\n",
       "2020-11-16     46.9      NaN           0     3.869116          1\n",
       "2020-11-23     47.9      NaN           0     3.889777          1\n",
       "2020-11-30      6.6      NaN           0     2.028148          1\n",
       "2020-12-07     46.2      NaN           0     3.854394          1\n",
       "2020-12-14     45.7      NaN           0     3.843744          1"
      ]
     },
     "execution_count": 92,
     "metadata": {},
     "output_type": "execute_result"
    }
   ],
   "source": [
    "test_df"
   ]
  },
  {
   "cell_type": "markdown",
   "metadata": {},
   "source": [
    "### OLS with exogenous features and no lag"
   ]
  },
  {
   "cell_type": "code",
   "execution_count": 125,
   "metadata": {},
   "outputs": [],
   "source": [
    "train_x = train_df[[\"travel_ind\",\"covid_ind\"]]\n",
    "train_y = train_df[[\"Mileage_log\"]]"
   ]
  },
  {
   "cell_type": "code",
   "execution_count": 126,
   "metadata": {},
   "outputs": [
    {
     "data": {
      "text/html": [
       "<table class=\"simpletable\">\n",
       "<caption>OLS Regression Results</caption>\n",
       "<tr>\n",
       "  <th>Dep. Variable:</th>       <td>Mileage_log</td>   <th>  R-squared:         </th> <td>   0.470</td>\n",
       "</tr>\n",
       "<tr>\n",
       "  <th>Model:</th>                   <td>OLS</td>       <th>  Adj. R-squared:    </th> <td>   0.451</td>\n",
       "</tr>\n",
       "<tr>\n",
       "  <th>Method:</th>             <td>Least Squares</td>  <th>  F-statistic:       </th> <td>   25.23</td>\n",
       "</tr>\n",
       "<tr>\n",
       "  <th>Date:</th>             <td>Thu, 28 Jan 2021</td> <th>  Prob (F-statistic):</th> <td>1.42e-08</td>\n",
       "</tr>\n",
       "<tr>\n",
       "  <th>Time:</th>                 <td>14:42:51</td>     <th>  Log-Likelihood:    </th> <td> -97.847</td>\n",
       "</tr>\n",
       "<tr>\n",
       "  <th>No. Observations:</th>      <td>    60</td>      <th>  AIC:               </th> <td>   201.7</td>\n",
       "</tr>\n",
       "<tr>\n",
       "  <th>Df Residuals:</th>          <td>    57</td>      <th>  BIC:               </th> <td>   208.0</td>\n",
       "</tr>\n",
       "<tr>\n",
       "  <th>Df Model:</th>              <td>     2</td>      <th>                     </th>     <td> </td>   \n",
       "</tr>\n",
       "<tr>\n",
       "  <th>Covariance Type:</th>      <td>nonrobust</td>    <th>                     </th>     <td> </td>   \n",
       "</tr>\n",
       "</table>\n",
       "<table class=\"simpletable\">\n",
       "<tr>\n",
       "       <td></td>         <th>coef</th>     <th>std err</th>      <th>t</th>      <th>P>|t|</th>  <th>[0.025</th>    <th>0.975]</th>  \n",
       "</tr>\n",
       "<tr>\n",
       "  <th>const</th>      <td>    4.4857</td> <td>    0.239</td> <td>   18.779</td> <td> 0.000</td> <td>    4.007</td> <td>    4.964</td>\n",
       "</tr>\n",
       "<tr>\n",
       "  <th>travel_ind</th> <td>    2.6966</td> <td>    0.441</td> <td>    6.114</td> <td> 0.000</td> <td>    1.813</td> <td>    3.580</td>\n",
       "</tr>\n",
       "<tr>\n",
       "  <th>covid_ind</th>  <td>   -1.3634</td> <td>    0.329</td> <td>   -4.148</td> <td> 0.000</td> <td>   -2.022</td> <td>   -0.705</td>\n",
       "</tr>\n",
       "</table>\n",
       "<table class=\"simpletable\">\n",
       "<tr>\n",
       "  <th>Omnibus:</th>       <td> 6.768</td> <th>  Durbin-Watson:     </th> <td>   2.049</td>\n",
       "</tr>\n",
       "<tr>\n",
       "  <th>Prob(Omnibus):</th> <td> 0.034</td> <th>  Jarque-Bera (JB):  </th> <td>   6.064</td>\n",
       "</tr>\n",
       "<tr>\n",
       "  <th>Skew:</th>          <td>-0.758</td> <th>  Prob(JB):          </th> <td>  0.0482</td>\n",
       "</tr>\n",
       "<tr>\n",
       "  <th>Kurtosis:</th>      <td> 3.361</td> <th>  Cond. No.          </th> <td>    3.16</td>\n",
       "</tr>\n",
       "</table><br/><br/>Notes:<br/>[1] Standard Errors assume that the covariance matrix of the errors is correctly specified."
      ],
      "text/plain": [
       "<class 'statsmodels.iolib.summary.Summary'>\n",
       "\"\"\"\n",
       "                            OLS Regression Results                            \n",
       "==============================================================================\n",
       "Dep. Variable:            Mileage_log   R-squared:                       0.470\n",
       "Model:                            OLS   Adj. R-squared:                  0.451\n",
       "Method:                 Least Squares   F-statistic:                     25.23\n",
       "Date:                Thu, 28 Jan 2021   Prob (F-statistic):           1.42e-08\n",
       "Time:                        14:42:51   Log-Likelihood:                -97.847\n",
       "No. Observations:                  60   AIC:                             201.7\n",
       "Df Residuals:                      57   BIC:                             208.0\n",
       "Df Model:                           2                                         \n",
       "Covariance Type:            nonrobust                                         \n",
       "==============================================================================\n",
       "                 coef    std err          t      P>|t|      [0.025      0.975]\n",
       "------------------------------------------------------------------------------\n",
       "const          4.4857      0.239     18.779      0.000       4.007       4.964\n",
       "travel_ind     2.6966      0.441      6.114      0.000       1.813       3.580\n",
       "covid_ind     -1.3634      0.329     -4.148      0.000      -2.022      -0.705\n",
       "==============================================================================\n",
       "Omnibus:                        6.768   Durbin-Watson:                   2.049\n",
       "Prob(Omnibus):                  0.034   Jarque-Bera (JB):                6.064\n",
       "Skew:                          -0.758   Prob(JB):                       0.0482\n",
       "Kurtosis:                       3.361   Cond. No.                         3.16\n",
       "==============================================================================\n",
       "\n",
       "Notes:\n",
       "[1] Standard Errors assume that the covariance matrix of the errors is correctly specified.\n",
       "\"\"\""
      ]
     },
     "execution_count": 126,
     "metadata": {},
     "output_type": "execute_result"
    }
   ],
   "source": [
    "# statsmodels function doesn't include a constant term, so, add a constant term to the equation.\n",
    "X = sm.add_constant(train_x)\n",
    "model = sm.OLS(train_y, X).fit() ## sm.OLS(output, input)\n",
    "\n",
    "# Print out the statistics\n",
    "model.summary()"
   ]
  },
  {
   "cell_type": "markdown",
   "metadata": {},
   "source": [
    "Mileage is not normally distributed, as expected. I don't regularly travel long distance. Further, driving less during the covid pandemic skews the istribution further. A non-normal distribution makes it harder to capture the pattern in weekly mileage. This is the nature of the data and what we want to explore in the first place, not statistically correct it."
   ]
  },
  {
   "cell_type": "markdown",
   "metadata": {},
   "source": [
    "DB-stat\n",
    "\n",
    "null hypothesis that the errors are serially uncorrelated against the alternative that they follow a first order autoregressive process"
   ]
  },
  {
   "cell_type": "code",
   "execution_count": null,
   "metadata": {},
   "outputs": [],
   "source": [
    "plt.hist(miles_df[\"Mileage\"], density = False, bins = 20)\n",
    "plt.ylabel(\"Count\")\n",
    "plt.xlabel(\"Miles\")\n",
    "plt.xticks(rotation = 45)\n",
    "plt.show()"
   ]
  },
  {
   "cell_type": "code",
   "execution_count": null,
   "metadata": {},
   "outputs": [],
   "source": [
    "plt.hist(miles_df[\"Mileage\"], density = True, bins = 30)\n",
    "plt.ylabel(\"Probability\")\n",
    "plt.xlabel(\"Miles\")\n",
    "plt.xticks(rotation = 45)\n",
    "\n",
    "plt.tight_layout()\n",
    "plt.show()"
   ]
  },
  {
   "cell_type": "code",
   "execution_count": null,
   "metadata": {},
   "outputs": [],
   "source": [
    "miles_df[\"Mileage\"].plot()\n",
    "plt.show()"
   ]
  },
  {
   "cell_type": "code",
   "execution_count": null,
   "metadata": {},
   "outputs": [],
   "source": []
  },
  {
   "cell_type": "code",
   "execution_count": null,
   "metadata": {},
   "outputs": [],
   "source": []
  },
  {
   "cell_type": "code",
   "execution_count": null,
   "metadata": {},
   "outputs": [],
   "source": []
  },
  {
   "cell_type": "markdown",
   "metadata": {},
   "source": [
    "### OLS with exogenous features with lag1"
   ]
  },
  {
   "cell_type": "code",
   "execution_count": 118,
   "metadata": {},
   "outputs": [],
   "source": [
    "train_df[\"Mileage_log_lag1\"] = train_df[\"Mileage_log\"].shift(1)\n",
    "train_df2 = train_df[[\"Mileage_log\",\"Mileage_log_lag1\",\"travel_ind\",\"covid_ind\"]].dropna()"
   ]
  },
  {
   "cell_type": "code",
   "execution_count": 120,
   "metadata": {},
   "outputs": [],
   "source": [
    "train_x = train_df2[[\"travel_ind\",\"covid_ind\",\"Mileage_log_lag1\"]]\n",
    "train_y = train_df2[[\"Mileage_log\"]]"
   ]
  },
  {
   "cell_type": "code",
   "execution_count": 121,
   "metadata": {
    "scrolled": true
   },
   "outputs": [
    {
     "data": {
      "text/html": [
       "<table class=\"simpletable\">\n",
       "<caption>OLS Regression Results</caption>\n",
       "<tr>\n",
       "  <th>Dep. Variable:</th>       <td>Mileage_log</td>   <th>  R-squared:         </th> <td>   0.472</td>\n",
       "</tr>\n",
       "<tr>\n",
       "  <th>Model:</th>                   <td>OLS</td>       <th>  Adj. R-squared:    </th> <td>   0.443</td>\n",
       "</tr>\n",
       "<tr>\n",
       "  <th>Method:</th>             <td>Least Squares</td>  <th>  F-statistic:       </th> <td>   16.39</td>\n",
       "</tr>\n",
       "<tr>\n",
       "  <th>Date:</th>             <td>Thu, 28 Jan 2021</td> <th>  Prob (F-statistic):</th> <td>9.91e-08</td>\n",
       "</tr>\n",
       "<tr>\n",
       "  <th>Time:</th>                 <td>14:38:27</td>     <th>  Log-Likelihood:    </th> <td> -96.215</td>\n",
       "</tr>\n",
       "<tr>\n",
       "  <th>No. Observations:</th>      <td>    59</td>      <th>  AIC:               </th> <td>   200.4</td>\n",
       "</tr>\n",
       "<tr>\n",
       "  <th>Df Residuals:</th>          <td>    55</td>      <th>  BIC:               </th> <td>   208.7</td>\n",
       "</tr>\n",
       "<tr>\n",
       "  <th>Df Model:</th>              <td>     3</td>      <th>                     </th>     <td> </td>   \n",
       "</tr>\n",
       "<tr>\n",
       "  <th>Covariance Type:</th>      <td>nonrobust</td>    <th>                     </th>     <td> </td>   \n",
       "</tr>\n",
       "</table>\n",
       "<table class=\"simpletable\">\n",
       "<tr>\n",
       "          <td></td>            <th>coef</th>     <th>std err</th>      <th>t</th>      <th>P>|t|</th>  <th>[0.025</th>    <th>0.975]</th>  \n",
       "</tr>\n",
       "<tr>\n",
       "  <th>const</th>            <td>    4.3761</td> <td>    0.559</td> <td>    7.824</td> <td> 0.000</td> <td>    3.255</td> <td>    5.497</td>\n",
       "</tr>\n",
       "<tr>\n",
       "  <th>travel_ind</th>       <td>    2.7058</td> <td>    0.454</td> <td>    5.964</td> <td> 0.000</td> <td>    1.797</td> <td>    3.615</td>\n",
       "</tr>\n",
       "<tr>\n",
       "  <th>covid_ind</th>        <td>   -1.3060</td> <td>    0.360</td> <td>   -3.631</td> <td> 0.001</td> <td>   -2.027</td> <td>   -0.585</td>\n",
       "</tr>\n",
       "<tr>\n",
       "  <th>Mileage_log_lag1</th> <td>    0.0138</td> <td>    0.106</td> <td>    0.130</td> <td> 0.897</td> <td>   -0.198</td> <td>    0.226</td>\n",
       "</tr>\n",
       "</table>\n",
       "<table class=\"simpletable\">\n",
       "<tr>\n",
       "  <th>Omnibus:</th>       <td> 6.399</td> <th>  Durbin-Watson:     </th> <td>   2.089</td>\n",
       "</tr>\n",
       "<tr>\n",
       "  <th>Prob(Omnibus):</th> <td> 0.041</td> <th>  Jarque-Bera (JB):  </th> <td>   5.690</td>\n",
       "</tr>\n",
       "<tr>\n",
       "  <th>Skew:</th>          <td>-0.744</td> <th>  Prob(JB):          </th> <td>  0.0581</td>\n",
       "</tr>\n",
       "<tr>\n",
       "  <th>Kurtosis:</th>      <td> 3.318</td> <th>  Cond. No.          </th> <td>    17.5</td>\n",
       "</tr>\n",
       "</table><br/><br/>Notes:<br/>[1] Standard Errors assume that the covariance matrix of the errors is correctly specified."
      ],
      "text/plain": [
       "<class 'statsmodels.iolib.summary.Summary'>\n",
       "\"\"\"\n",
       "                            OLS Regression Results                            \n",
       "==============================================================================\n",
       "Dep. Variable:            Mileage_log   R-squared:                       0.472\n",
       "Model:                            OLS   Adj. R-squared:                  0.443\n",
       "Method:                 Least Squares   F-statistic:                     16.39\n",
       "Date:                Thu, 28 Jan 2021   Prob (F-statistic):           9.91e-08\n",
       "Time:                        14:38:27   Log-Likelihood:                -96.215\n",
       "No. Observations:                  59   AIC:                             200.4\n",
       "Df Residuals:                      55   BIC:                             208.7\n",
       "Df Model:                           3                                         \n",
       "Covariance Type:            nonrobust                                         \n",
       "====================================================================================\n",
       "                       coef    std err          t      P>|t|      [0.025      0.975]\n",
       "------------------------------------------------------------------------------------\n",
       "const                4.3761      0.559      7.824      0.000       3.255       5.497\n",
       "travel_ind           2.7058      0.454      5.964      0.000       1.797       3.615\n",
       "covid_ind           -1.3060      0.360     -3.631      0.001      -2.027      -0.585\n",
       "Mileage_log_lag1     0.0138      0.106      0.130      0.897      -0.198       0.226\n",
       "==============================================================================\n",
       "Omnibus:                        6.399   Durbin-Watson:                   2.089\n",
       "Prob(Omnibus):                  0.041   Jarque-Bera (JB):                5.690\n",
       "Skew:                          -0.744   Prob(JB):                       0.0581\n",
       "Kurtosis:                       3.318   Cond. No.                         17.5\n",
       "==============================================================================\n",
       "\n",
       "Notes:\n",
       "[1] Standard Errors assume that the covariance matrix of the errors is correctly specified.\n",
       "\"\"\""
      ]
     },
     "execution_count": 121,
     "metadata": {},
     "output_type": "execute_result"
    }
   ],
   "source": [
    "# statsmodels function doesn't include a constant term, so, add a constant term to the equation.\n",
    "X = sm.add_constant(train_x)\n",
    "model = sm.OLS(train_y, X).fit() ## sm.OLS(output, input)\n",
    "\n",
    "# Print out the statistics\n",
    "model.summary()"
   ]
  },
  {
   "cell_type": "code",
   "execution_count": null,
   "metadata": {},
   "outputs": [],
   "source": []
  },
  {
   "cell_type": "code",
   "execution_count": null,
   "metadata": {},
   "outputs": [],
   "source": []
  },
  {
   "cell_type": "code",
   "execution_count": null,
   "metadata": {},
   "outputs": [],
   "source": []
  },
  {
   "cell_type": "code",
   "execution_count": null,
   "metadata": {},
   "outputs": [],
   "source": []
  }
 ],
 "metadata": {
  "kernelspec": {
   "display_name": "Python 3",
   "language": "python",
   "name": "python3"
  },
  "language_info": {
   "codemirror_mode": {
    "name": "ipython",
    "version": 3
   },
   "file_extension": ".py",
   "mimetype": "text/x-python",
   "name": "python",
   "nbconvert_exporter": "python",
   "pygments_lexer": "ipython3",
   "version": "3.8.5"
  }
 },
 "nbformat": 4,
 "nbformat_minor": 2
}
